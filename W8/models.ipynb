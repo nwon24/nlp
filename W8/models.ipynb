{
  "nbformat": 4,
  "nbformat_minor": 0,
  "metadata": {
    "colab": {
      "provenance": [],
      "gpuType": "T4",
      "authorship_tag": "ABX9TyOLttgMthIbzStDqcdV0FGk",
      "include_colab_link": true
    },
    "kernelspec": {
      "name": "python3",
      "display_name": "Python 3"
    },
    "language_info": {
      "name": "python"
    },
    "accelerator": "GPU"
  },
  "cells": [
    {
      "cell_type": "markdown",
      "metadata": {
        "id": "view-in-github",
        "colab_type": "text"
      },
      "source": [
        "<a href=\"https://colab.research.google.com/github/nwon24/nlp/blob/main/W8/models.ipynb\" target=\"_parent\"><img src=\"https://colab.research.google.com/assets/colab-badge.svg\" alt=\"Open In Colab\"/></a>"
      ]
    },
    {
      "cell_type": "markdown",
      "source": [
        "# Model performance metrics\n",
        "\n",
        "In this notebook we will compare the baseline models, the CNN, the LSTM (with and without pretrained embeddings), and the transformer model on the same text classification task, evaluating each model on metrics such as accuracy and F1 score. The corpus will be 50000 Amazon reviews, categorised as either positive or negative reviews. These reviews will be split 80/20 for training and testing."
      ],
      "metadata": {
        "id": "kuMObqSC6aPG"
      }
    },
    {
      "cell_type": "markdown",
      "source": [
        "# Imports"
      ],
      "metadata": {
        "id": "CeZ1vBzQ7Cl2"
      }
    },
    {
      "cell_type": "code",
      "source": [
        "import pandas as pd\n",
        "import numpy as np\n",
        "from sklearn.preprocessing import LabelEncoder\n",
        "from sklearn.feature_extraction.text import TfidfVectorizer\n",
        "from sklearn import model_selection, svm\n",
        "from sklearn.linear_model import LogisticRegression\n",
        "from sklearn.metrics import accuracy_score, f1_score, ConfusionMatrixDisplay\n",
        "import matplotlib.pyplot as plt\n",
        "import torch\n",
        "import torch.nn as nn\n",
        "import torch.nn.functional as F\n",
        "from torch.optim import Adam\n",
        "from torch.utils.data import Dataset, DataLoader\n",
        "\n",
        "device=torch.accelerator.current_accelerator().type if torch.accelerator.is_available() else \"cpu\""
      ],
      "metadata": {
        "id": "bz3hgB6h7H3T"
      },
      "execution_count": 1,
      "outputs": []
    },
    {
      "cell_type": "markdown",
      "source": [
        "# Hyperparameters\n",
        "\n",
        "The same hyperparameters will be used for all the neural network models. However, depending on computing resource constraints, the transformer may not be able to run for the same number of epochs as the other models."
      ],
      "metadata": {
        "id": "i9HFl8zr7trB"
      }
    },
    {
      "cell_type": "code",
      "source": [
        "corpus_file=\"xaa\"\n",
        "\n",
        "test_size=0.2\n",
        "batch_size=50\n",
        "epochs=5\n",
        "lr=5e-4\n",
        "\n",
        "data=pd.read_csv(corpus_file)"
      ],
      "metadata": {
        "id": "D85UC4Mg7xs2"
      },
      "execution_count": 2,
      "outputs": []
    },
    {
      "cell_type": "markdown",
      "source": [
        "# Baseline classifiers\n",
        "\n",
        "## Preparing the data"
      ],
      "metadata": {
        "id": "uqE6ptbd71QN"
      }
    },
    {
      "cell_type": "code",
      "source": [
        "tfidf =TfidfVectorizer()\n",
        "tfidf.fit(data[\"text\"])\n",
        "trainX,testX,trainY,testY=model_selection.train_test_split(data[\"text\"],data[\"label\"],test_size=test_size)\n",
        "Encoder=LabelEncoder()\n",
        "trainY=Encoder.fit_transform(trainY)\n",
        "testY=Encoder.fit_transform(testY)\n",
        "\n",
        "trainX=tfidf.transform(trainX)\n",
        "testX=tfidf.transform(testX)"
      ],
      "metadata": {
        "collapsed": true,
        "id": "SBJXkTwr73um"
      },
      "execution_count": 3,
      "outputs": []
    },
    {
      "cell_type": "markdown",
      "source": [
        "## SVM"
      ],
      "metadata": {
        "id": "uodF2kj7escf"
      }
    },
    {
      "cell_type": "code",
      "source": [
        "SVM=svm.SVC(C=1.0,kernel=\"linear\",degree=3,gamma=\"auto\")\n",
        "SVM.fit(trainX,trainY)\n",
        "SVM_pred=SVM.predict(testX)\n",
        "SVM_accuracy=accuracy_score(testY,SVM_pred)\n",
        "SVM_f1=f1_score(testY,SVM_pred)\n",
        "ConfusionMatrixDisplay.from_predictions(testY,SVM_pred)\n",
        "plt.show()\n",
        "print(f\"SVM accuracy: {SVM_accuracy}\")\n",
        "print(f\"SVM f1: {SVM_f1}\")"
      ],
      "metadata": {
        "colab": {
          "base_uri": "https://localhost:8080/",
          "height": 484
        },
        "id": "d3kU38eJejqw",
        "outputId": "df25cef7-05d1-4ad1-dde0-f0adb937cb5d"
      },
      "execution_count": 4,
      "outputs": [
        {
          "output_type": "display_data",
          "data": {
            "text/plain": [
              "<Figure size 640x480 with 2 Axes>"
            ],
            "image/png": "[encoded data removed]"
          },
          "metadata": {}
        },
        {
          "output_type": "stream",
          "name": "stdout",
          "text": [
            "SVM accuracy: 0.8604\n",
            "SVM f1: 0.8641759097100603\n"
          ]
        }
      ]
    },
    {
      "cell_type": "markdown",
      "source": [
        "## Logistic regression"
      ],
      "metadata": {
        "id": "rR149WD9eu92"
      }
    },
    {
      "cell_type": "code",
      "source": [
        "LR=LogisticRegression()\n",
        "LR.fit(trainX,trainY)\n",
        "LR_pred=LR.predict(testX)\n",
        "LR_accuracy=accuracy_score(testY,LR_pred)\n",
        "LR_f1=f1_score(testY,LR_pred)\n",
        "ConfusionMatrixDisplay.from_predictions(testY,LR_pred)\n",
        "plt.show()\n",
        "print(f\"LR accuracy: {LR_accuracy}\")\n",
        "print(f\"LR f1: {LR_f1}\")"
      ],
      "metadata": {
        "colab": {
          "base_uri": "https://localhost:8080/",
          "height": 484
        },
        "id": "qyPBIvVZDmAS",
        "outputId": "c60ea40b-0c6c-4b10-cf90-887569b1e322"
      },
      "execution_count": 5,
      "outputs": [
        {
          "output_type": "display_data",
          "data": {
            "text/plain": [
              "<Figure size 640x480 with 2 Axes>"
            ],
            "image/png": "[encoded data removed]"
          },
          "metadata": {}
        },
        {
          "output_type": "stream",
          "name": "stdout",
          "text": [
            "LR accuracy: 0.8617\n",
            "LR f1: 0.8655846049178735\n"
          ]
        }
      ]
    },
    {
      "cell_type": "markdown",
      "source": [
        "# Generic class for models"
      ],
      "metadata": {
        "id": "b_URVvOJEspH"
      }
    },
    {
      "cell_type": "code",
      "source": [
        "class Model():\n",
        "    def __init__(self,model,loss_fn,optimizer,train_loader,test_loader,batch_size,epochs):\n",
        "        self.model=model.to(device)\n",
        "        self.loss_fn=loss_fn\n",
        "        self.optimizer=optimizer\n",
        "        self.train_loader=train_loader\n",
        "        self.test_loader=test_loader\n",
        "        self.batch_size=batch_size\n",
        "        self.epochs=epochs\n",
        "\n",
        "    def reshape(self,x):\n",
        "        return x\n",
        "\n",
        "    def train(self):\n",
        "        self.model.train()\n",
        "        size=len(self.train_loader.dataset)\n",
        "        for epoch in range(self.epochs):\n",
        "            for batch,(x,y) in enumerate(self.train_loader):\n",
        "                x,y=x.to(device),y.to(device)\n",
        "                pred=self.model(self.reshape(x))\n",
        "                cost=self.loss_fn(pred.flatten(),y)\n",
        "                cost.backward()\n",
        "                self.optimizer.step()\n",
        "                self.optimizer.zero_grad()\n",
        "                if batch%10 == 0:\n",
        "                    cost,current=cost.item(),batch*self.batch_size+len(x)\n",
        "                    print(f\"Epoch {epoch}, cost: {cost:>7f}  [{current:>5d}/{size:>5d}]\")\n",
        "\n",
        "    def test_loop(self):\n",
        "        size=len(self.test_loader.dataset)\n",
        "        num_batches=len(self.test_loader)\n",
        "        correct=0\n",
        "\n",
        "        preds=[]\n",
        "        with torch.no_grad():\n",
        "            for (x,y) in self.test_loader:\n",
        "                x,y=x.to(device),y.to(device)\n",
        "                pred=self.model(self.reshape(x)).flatten()\n",
        "                preds.append(pred)\n",
        "                ncorrect=(torch.round(pred) == y).sum().item()\n",
        "                correct+=ncorrect\n",
        "\n",
        "        #print(correct,size)\n",
        "        #print(f\"Test Error: \\n Accuracy: {(100*correct/size):>0.1f}%, Avg loss: {100*test_loss/size:>8f} \\n\")\n",
        "        return 100*correct/size,np.hstack(preds)\n",
        "\n",
        "    def test(self):\n",
        "        self.model.eval()\n",
        "        x=np.arange(self.epochs)\n",
        "        y=np.zeros(self.epochs)\n",
        "        preds=np.zeros((self.epochs,len(self.test_loader.dataset)))\n",
        "        for epoch in range(self.epochs):\n",
        "            y[epoch],preds[epoch]=self.test_loop()\n",
        "        plt.plot(x,y)\n",
        "        plt.xlabel(\"epoch\")\n",
        "        plt.ylabel(\"Accuracy\")\n",
        "        plt.title(\"Accuracy vs epoch\")\n",
        "        i=np.argmax(y)\n",
        "        print(f\"Maximum accuracy (epoch {i+1}) = {y[i]:.4f}\")\n",
        "        f1=f1_score(self.test_loader.dataset.getlabel(),np.round(preds[i]))\n",
        "        print(f\"F1 score = {f1}\")\n",
        "        ConfusionMatrixDisplay.from_predictions(self.test_loader.dataset.getlabel(),np.round(preds[i]))\n",
        "        plt.show()"
      ],
      "metadata": {
        "id": "fm_X4ouYfO-4"
      },
      "execution_count": 33,
      "outputs": []
    },
    {
      "cell_type": "code",
      "source": [
        "class corpus(Dataset):\n",
        "    def __init__(self,corpus,label):\n",
        "        self.corpus=corpus\n",
        "        self.label=label\n",
        "    def __len__(self):\n",
        "        return len(self.corpus)\n",
        "    def __getitem__(self,idx):\n",
        "        return self.corpus[idx],self.label[idx]\n",
        "    def getlabel(self):\n",
        "        return self.label"
      ],
      "metadata": {
        "id": "WvbVhM6nmtbu"
      },
      "execution_count": 34,
      "outputs": []
    },
    {
      "cell_type": "markdown",
      "source": [
        "# CNN"
      ],
      "metadata": {
        "id": "t-iMDdMbmzTx"
      }
    },
    {
      "cell_type": "code",
      "source": [
        "class CNNClassifier(nn.Module):\n",
        "    def __init__(self,n,kerns,pool_kerns,out_chans):\n",
        "        super(CNNClassifier,self).__init__()\n",
        "        self.kerns=kerns\n",
        "        self.pool_kerns=pool_kerns\n",
        "        self.convs=[]\n",
        "        self.pools=[]\n",
        "        self.stride=1\n",
        "        self.n=n\n",
        "        #self.embed=nn.Embedding(n,max_length)\n",
        "        in_chan=1\n",
        "        for i in range(len(kerns)):\n",
        "            out_chan=out_chans[i]\n",
        "            kern=kerns[i]\n",
        "            pool_kern=pool_kerns[i]\n",
        "            self.convs.append(nn.Conv1d(in_chan,out_chan,kern))\n",
        "            self.compute_size(kern,self.stride)\n",
        "            self.pools.append(nn.MaxPool1d(pool_kern))\n",
        "            self.compute_size(pool_kern,pool_kern)\n",
        "            in_chan=out_chan\n",
        "        self.convs=nn.ModuleList(self.convs)\n",
        "        self.pools=nn.ModuleList(self.pools)\n",
        "        self.fc1=nn.Linear(self.n*out_chan,1)\n",
        "        #self.fc2=nn.Linear(100,1)\n",
        "\n",
        "    def compute_size(self,kernel,stride):\n",
        "        self.n=(self.n-kernel)//stride+1\n",
        "        return self.n\n",
        "\n",
        "    def forward(self,x):\n",
        "        #x=self.embed(x)\n",
        "        for i in range(len(self.kerns)):\n",
        "            x=nn.LeakyReLU()(self.convs[i](x))\n",
        "            x=self.pools[i](x)\n",
        "            x=nn.Dropout(0.2)(x)\n",
        "        x=torch.flatten(x,1)\n",
        "        #x=F.relu(self.fc1(x))\n",
        "        #x=self.fc2(x)\n",
        "        x=self.fc1(x)\n",
        "        x=nn.Sigmoid()(x)\n",
        "        return x\n",
        "\n",
        "class CNNModel(Model):\n",
        "    def reshape(self,x):\n",
        "        return x.reshape(self.batch_size,1,x.shape[1])"
      ],
      "metadata": {
        "id": "NJM8xXrdkqDo"
      },
      "execution_count": 35,
      "outputs": []
    },
    {
      "cell_type": "code",
      "source": [
        "trainX=torch.from_numpy(trainX.toarray()).float()\n",
        "testX=torch.from_numpy(testX.toarray()).float()\n",
        "trainY=torch.from_numpy(trainY).float()\n",
        "testY=torch.from_numpy(testY).float()"
      ],
      "metadata": {
        "colab": {
          "base_uri": "https://localhost:8080/",
          "height": 193
        },
        "id": "HncSEXLUlZeV",
        "outputId": "06ffe4c9-5352-4ce3-c61f-305079ac1cbe"
      },
      "execution_count": 25,
      "outputs": [
        {
          "output_type": "error",
          "ename": "AttributeError",
          "evalue": "'Tensor' object has no attribute 'toarray'",
          "traceback": [
            "\u001b[0;31m---------------------------------------------------------------------------\u001b[0m",
            "\u001b[0;31mAttributeError\u001b[0m                            Traceback (most recent call last)",
            "\u001b[0;32m/tmp/ipython-input-25-2948004206.py\u001b[0m in \u001b[0;36m<cell line: 0>\u001b[0;34m()\u001b[0m\n\u001b[0;32m----> 1\u001b[0;31m \u001b[0mtrainX\u001b[0m\u001b[0;34m=\u001b[0m\u001b[0mtorch\u001b[0m\u001b[0;34m.\u001b[0m\u001b[0mfrom_numpy\u001b[0m\u001b[0;34m(\u001b[0m\u001b[0mtrainX\u001b[0m\u001b[0;34m.\u001b[0m\u001b[0mtoarray\u001b[0m\u001b[0;34m(\u001b[0m\u001b[0;34m)\u001b[0m\u001b[0;34m)\u001b[0m\u001b[0;34m.\u001b[0m\u001b[0mfloat\u001b[0m\u001b[0;34m(\u001b[0m\u001b[0;34m)\u001b[0m\u001b[0;34m\u001b[0m\u001b[0;34m\u001b[0m\u001b[0m\n\u001b[0m\u001b[1;32m      2\u001b[0m \u001b[0mtestX\u001b[0m\u001b[0;34m=\u001b[0m\u001b[0mtorch\u001b[0m\u001b[0;34m.\u001b[0m\u001b[0mfrom_numpy\u001b[0m\u001b[0;34m(\u001b[0m\u001b[0mtestX\u001b[0m\u001b[0;34m.\u001b[0m\u001b[0mtoarray\u001b[0m\u001b[0;34m(\u001b[0m\u001b[0;34m)\u001b[0m\u001b[0;34m)\u001b[0m\u001b[0;34m.\u001b[0m\u001b[0mfloat\u001b[0m\u001b[0;34m(\u001b[0m\u001b[0;34m)\u001b[0m\u001b[0;34m\u001b[0m\u001b[0;34m\u001b[0m\u001b[0m\n\u001b[1;32m      3\u001b[0m \u001b[0mtrainY\u001b[0m\u001b[0;34m=\u001b[0m\u001b[0mtorch\u001b[0m\u001b[0;34m.\u001b[0m\u001b[0mfrom_numpy\u001b[0m\u001b[0;34m(\u001b[0m\u001b[0mtrainY\u001b[0m\u001b[0;34m)\u001b[0m\u001b[0;34m.\u001b[0m\u001b[0mfloat\u001b[0m\u001b[0;34m(\u001b[0m\u001b[0;34m)\u001b[0m\u001b[0;34m\u001b[0m\u001b[0;34m\u001b[0m\u001b[0m\n\u001b[1;32m      4\u001b[0m \u001b[0mtestY\u001b[0m\u001b[0;34m=\u001b[0m\u001b[0mtorch\u001b[0m\u001b[0;34m.\u001b[0m\u001b[0mfrom_numpy\u001b[0m\u001b[0;34m(\u001b[0m\u001b[0mtestY\u001b[0m\u001b[0;34m)\u001b[0m\u001b[0;34m.\u001b[0m\u001b[0mfloat\u001b[0m\u001b[0;34m(\u001b[0m\u001b[0;34m)\u001b[0m\u001b[0;34m\u001b[0m\u001b[0;34m\u001b[0m\u001b[0m\n",
            "\u001b[0;31mAttributeError\u001b[0m: 'Tensor' object has no attribute 'toarray'"
          ]
        }
      ]
    },
    {
      "cell_type": "code",
      "source": [
        "train_loader=DataLoader(corpus(trainX,trainY),batch_size=batch_size)\n",
        "test_loader=DataLoader(corpus(testX,testY),batch_size=batch_size)\n",
        "cnn_classifier=CNNClassifier(trainX.shape[1],[2],[2],[3])\n",
        "cnn=CNNModel(cnn_classifier,nn.BCELoss(),Adam(cnn_classifier.parameters(),lr=lr),train_loader,test_loader,batch_size,epochs)"
      ],
      "metadata": {
        "id": "TNxjD2Ngusqk"
      },
      "execution_count": 36,
      "outputs": []
    },
    {
      "cell_type": "code",
      "source": [
        "cnn.train()\n",
        "cnn.test()\n"
      ],
      "metadata": {
        "colab": {
          "base_uri": "https://localhost:8080/",
          "height": 1000
        },
        "id": "-amQvC_rvyul",
        "outputId": "88308468-9d0a-4c1d-b2bf-ba3df410e59e"
      },
      "execution_count": 37,
      "outputs": [
        {
          "output_type": "stream",
          "name": "stdout",
          "text": [
            "Epoch 0, cost: 0.687736  [   50/24000]\n",
            "Epoch 0, cost: 1.163654  [  550/24000]\n",
            "Epoch 0, cost: 0.750768  [ 1050/24000]\n",
            "Epoch 0, cost: 0.857508  [ 1550/24000]\n",
            "Epoch 0, cost: 0.688290  [ 2050/24000]\n",
            "Epoch 0, cost: 0.687752  [ 2550/24000]\n",
            "Epoch 0, cost: 0.683116  [ 3050/24000]\n",
            "Epoch 0, cost: 0.697567  [ 3550/24000]\n",
            "Epoch 0, cost: 0.884856  [ 4050/24000]\n",
            "Epoch 0, cost: 0.701877  [ 4550/24000]\n",
            "Epoch 0, cost: 0.777894  [ 5050/24000]\n",
            "Epoch 0, cost: 0.698567  [ 5550/24000]\n",
            "Epoch 0, cost: 0.713916  [ 6050/24000]\n",
            "Epoch 0, cost: 0.703191  [ 6550/24000]\n",
            "Epoch 0, cost: 0.760161  [ 7050/24000]\n",
            "Epoch 0, cost: 0.729008  [ 7550/24000]\n",
            "Epoch 0, cost: 0.755604  [ 8050/24000]\n",
            "Epoch 0, cost: 0.719348  [ 8550/24000]\n",
            "Epoch 0, cost: 0.730620  [ 9050/24000]\n",
            "Epoch 0, cost: 0.698756  [ 9550/24000]\n",
            "Epoch 0, cost: 0.693738  [10050/24000]\n",
            "Epoch 0, cost: 0.709492  [10550/24000]\n",
            "Epoch 0, cost: 0.685927  [11050/24000]\n",
            "Epoch 0, cost: 0.734892  [11550/24000]\n",
            "Epoch 0, cost: 0.732019  [12050/24000]\n",
            "Epoch 0, cost: 0.782047  [12550/24000]\n",
            "Epoch 0, cost: 0.798480  [13050/24000]\n",
            "Epoch 0, cost: 0.749007  [13550/24000]\n",
            "Epoch 0, cost: 0.713186  [14050/24000]\n",
            "Epoch 0, cost: 0.723268  [14550/24000]\n",
            "Epoch 0, cost: 0.692783  [15050/24000]\n",
            "Epoch 0, cost: 0.679441  [15550/24000]\n",
            "Epoch 0, cost: 0.700081  [16050/24000]\n",
            "Epoch 0, cost: 0.725304  [16550/24000]\n",
            "Epoch 0, cost: 0.693639  [17050/24000]\n",
            "Epoch 0, cost: 0.692162  [17550/24000]\n",
            "Epoch 0, cost: 0.694638  [18050/24000]\n",
            "Epoch 0, cost: 0.700569  [18550/24000]\n",
            "Epoch 0, cost: 0.734202  [19050/24000]\n",
            "Epoch 0, cost: 0.703116  [19550/24000]\n",
            "Epoch 0, cost: 0.606194  [20050/24000]\n",
            "Epoch 0, cost: 0.756109  [20550/24000]\n",
            "Epoch 0, cost: 0.677809  [21050/24000]\n",
            "Epoch 0, cost: 0.748181  [21550/24000]\n",
            "Epoch 0, cost: 0.760585  [22050/24000]\n",
            "Epoch 0, cost: 0.692265  [22550/24000]\n",
            "Epoch 0, cost: 0.692445  [23050/24000]\n",
            "Epoch 0, cost: 0.667257  [23550/24000]\n",
            "Epoch 1, cost: 0.695590  [   50/24000]\n",
            "Epoch 1, cost: 0.769938  [  550/24000]\n",
            "Epoch 1, cost: 0.692092  [ 1050/24000]\n",
            "Epoch 1, cost: 0.770250  [ 1550/24000]\n",
            "Epoch 1, cost: 0.712486  [ 2050/24000]\n",
            "Epoch 1, cost: 0.682033  [ 2550/24000]\n",
            "Epoch 1, cost: 0.677492  [ 3050/24000]\n",
            "Epoch 1, cost: 0.699350  [ 3550/24000]\n",
            "Epoch 1, cost: 0.787798  [ 4050/24000]\n",
            "Epoch 1, cost: 0.758811  [ 4550/24000]\n",
            "Epoch 1, cost: 0.664146  [ 5050/24000]\n",
            "Epoch 1, cost: 0.700008  [ 5550/24000]\n",
            "Epoch 1, cost: 0.705069  [ 6050/24000]\n",
            "Epoch 1, cost: 0.673891  [ 6550/24000]\n",
            "Epoch 1, cost: 0.662907  [ 7050/24000]\n",
            "Epoch 1, cost: 0.693068  [ 7550/24000]\n",
            "Epoch 1, cost: 0.700528  [ 8050/24000]\n",
            "Epoch 1, cost: 0.682064  [ 8550/24000]\n",
            "Epoch 1, cost: 0.669600  [ 9050/24000]\n",
            "Epoch 1, cost: 0.699244  [ 9550/24000]\n",
            "Epoch 1, cost: 0.705052  [10050/24000]\n",
            "Epoch 1, cost: 0.688650  [10550/24000]\n",
            "Epoch 1, cost: 0.686186  [11050/24000]\n",
            "Epoch 1, cost: 0.719756  [11550/24000]\n",
            "Epoch 1, cost: 0.686647  [12050/24000]\n",
            "Epoch 1, cost: 0.726112  [12550/24000]\n",
            "Epoch 1, cost: 0.688823  [13050/24000]\n",
            "Epoch 1, cost: 0.692003  [13550/24000]\n",
            "Epoch 1, cost: 0.682983  [14050/24000]\n",
            "Epoch 1, cost: 0.700025  [14550/24000]\n",
            "Epoch 1, cost: 0.666703  [15050/24000]\n",
            "Epoch 1, cost: 0.675343  [15550/24000]\n",
            "Epoch 1, cost: 0.690299  [16050/24000]\n",
            "Epoch 1, cost: 0.671877  [16550/24000]\n",
            "Epoch 1, cost: 0.708337  [17050/24000]\n",
            "Epoch 1, cost: 0.690425  [17550/24000]\n",
            "Epoch 1, cost: 0.709716  [18050/24000]\n",
            "Epoch 1, cost: 0.710926  [18550/24000]\n",
            "Epoch 1, cost: 0.688513  [19050/24000]\n",
            "Epoch 1, cost: 0.695243  [19550/24000]\n",
            "Epoch 1, cost: 0.664327  [20050/24000]\n",
            "Epoch 1, cost: 0.687926  [20550/24000]\n",
            "Epoch 1, cost: 0.686819  [21050/24000]\n",
            "Epoch 1, cost: 0.690285  [21550/24000]\n",
            "Epoch 1, cost: 0.697676  [22050/24000]\n",
            "Epoch 1, cost: 0.706727  [22550/24000]\n",
            "Epoch 1, cost: 0.694056  [23050/24000]\n",
            "Epoch 1, cost: 0.680658  [23550/24000]\n",
            "Epoch 2, cost: 0.700701  [   50/24000]\n",
            "Epoch 2, cost: 0.691171  [  550/24000]\n",
            "Epoch 2, cost: 0.699734  [ 1050/24000]\n",
            "Epoch 2, cost: 0.688372  [ 1550/24000]\n",
            "Epoch 2, cost: 0.688754  [ 2050/24000]\n",
            "Epoch 2, cost: 0.695998  [ 2550/24000]\n",
            "Epoch 2, cost: 0.678744  [ 3050/24000]\n",
            "Epoch 2, cost: 0.687885  [ 3550/24000]\n",
            "Epoch 2, cost: 0.707316  [ 4050/24000]\n",
            "Epoch 2, cost: 0.692117  [ 4550/24000]\n",
            "Epoch 2, cost: 0.694973  [ 5050/24000]\n",
            "Epoch 2, cost: 0.693983  [ 5550/24000]\n",
            "Epoch 2, cost: 0.697945  [ 6050/24000]\n",
            "Epoch 2, cost: 0.673772  [ 6550/24000]\n",
            "Epoch 2, cost: 0.664821  [ 7050/24000]\n",
            "Epoch 2, cost: 0.688280  [ 7550/24000]\n",
            "Epoch 2, cost: 0.695507  [ 8050/24000]\n",
            "Epoch 2, cost: 0.700209  [ 8550/24000]\n",
            "Epoch 2, cost: 0.690431  [ 9050/24000]\n",
            "Epoch 2, cost: 0.693132  [ 9550/24000]\n",
            "Epoch 2, cost: 0.690559  [10050/24000]\n",
            "Epoch 2, cost: 0.716507  [10550/24000]\n",
            "Epoch 2, cost: 0.686985  [11050/24000]\n",
            "Epoch 2, cost: 0.692769  [11550/24000]\n",
            "Epoch 2, cost: 0.702536  [12050/24000]\n",
            "Epoch 2, cost: 0.692966  [12550/24000]\n",
            "Epoch 2, cost: 0.701428  [13050/24000]\n",
            "Epoch 2, cost: 0.692273  [13550/24000]\n",
            "Epoch 2, cost: 0.692269  [14050/24000]\n",
            "Epoch 2, cost: 0.692152  [14550/24000]\n",
            "Epoch 2, cost: 0.701323  [15050/24000]\n",
            "Epoch 2, cost: 0.694798  [15550/24000]\n",
            "Epoch 2, cost: 0.689185  [16050/24000]\n",
            "Epoch 2, cost: 0.698149  [16550/24000]\n",
            "Epoch 2, cost: 0.692244  [17050/24000]\n",
            "Epoch 2, cost: 0.689011  [17550/24000]\n",
            "Epoch 2, cost: 0.703307  [18050/24000]\n",
            "Epoch 2, cost: 0.690118  [18550/24000]\n",
            "Epoch 2, cost: 0.686317  [19050/24000]\n",
            "Epoch 2, cost: 0.697539  [19550/24000]\n",
            "Epoch 2, cost: 0.715904  [20050/24000]\n",
            "Epoch 2, cost: 0.690372  [20550/24000]\n",
            "Epoch 2, cost: 0.689091  [21050/24000]\n",
            "Epoch 2, cost: 0.681911  [21550/24000]\n",
            "Epoch 2, cost: 0.687193  [22050/24000]\n",
            "Epoch 2, cost: 0.689054  [22550/24000]\n",
            "Epoch 2, cost: 0.689432  [23050/24000]\n",
            "Epoch 2, cost: 0.669313  [23550/24000]\n",
            "Epoch 3, cost: 0.677208  [   50/24000]\n",
            "Epoch 3, cost: 0.674575  [  550/24000]\n",
            "Epoch 3, cost: 0.678064  [ 1050/24000]\n",
            "Epoch 3, cost: 0.672291  [ 1550/24000]\n",
            "Epoch 3, cost: 0.667457  [ 2050/24000]\n",
            "Epoch 3, cost: 0.663339  [ 2550/24000]\n",
            "Epoch 3, cost: 0.657180  [ 3050/24000]\n",
            "Epoch 3, cost: 0.695513  [ 3550/24000]\n",
            "Epoch 3, cost: 0.646732  [ 4050/24000]\n",
            "Epoch 3, cost: 0.647667  [ 4550/24000]\n",
            "Epoch 3, cost: 0.654397  [ 5050/24000]\n",
            "Epoch 3, cost: 0.660986  [ 5550/24000]\n",
            "Epoch 3, cost: 0.648362  [ 6050/24000]\n",
            "Epoch 3, cost: 0.649969  [ 6550/24000]\n",
            "Epoch 3, cost: 0.646261  [ 7050/24000]\n",
            "Epoch 3, cost: 0.653357  [ 7550/24000]\n",
            "Epoch 3, cost: 0.653720  [ 8050/24000]\n",
            "Epoch 3, cost: 0.652607  [ 8550/24000]\n",
            "Epoch 3, cost: 0.611995  [ 9050/24000]\n",
            "Epoch 3, cost: 0.631322  [ 9550/24000]\n",
            "Epoch 3, cost: 0.639423  [10050/24000]\n",
            "Epoch 3, cost: 0.657500  [10550/24000]\n",
            "Epoch 3, cost: 0.617959  [11050/24000]\n",
            "Epoch 3, cost: 0.634707  [11550/24000]\n",
            "Epoch 3, cost: 0.612094  [12050/24000]\n",
            "Epoch 3, cost: 0.610797  [12550/24000]\n",
            "Epoch 3, cost: 0.615796  [13050/24000]\n",
            "Epoch 3, cost: 0.617700  [13550/24000]\n",
            "Epoch 3, cost: 0.613851  [14050/24000]\n",
            "Epoch 3, cost: 0.637775  [14550/24000]\n",
            "Epoch 3, cost: 0.599621  [15050/24000]\n",
            "Epoch 3, cost: 0.614590  [15550/24000]\n",
            "Epoch 3, cost: 0.601422  [16050/24000]\n",
            "Epoch 3, cost: 0.618806  [16550/24000]\n",
            "Epoch 3, cost: 0.622848  [17050/24000]\n",
            "Epoch 3, cost: 0.618950  [17550/24000]\n",
            "Epoch 3, cost: 0.577049  [18050/24000]\n",
            "Epoch 3, cost: 0.589080  [18550/24000]\n",
            "Epoch 3, cost: 0.589142  [19050/24000]\n",
            "Epoch 3, cost: 0.601615  [19550/24000]\n",
            "Epoch 3, cost: 0.568609  [20050/24000]\n",
            "Epoch 3, cost: 0.583207  [20550/24000]\n",
            "Epoch 3, cost: 0.591051  [21050/24000]\n",
            "Epoch 3, cost: 0.554590  [21550/24000]\n",
            "Epoch 3, cost: 0.594066  [22050/24000]\n",
            "Epoch 3, cost: 0.587283  [22550/24000]\n",
            "Epoch 3, cost: 0.577120  [23050/24000]\n",
            "Epoch 3, cost: 0.576260  [23550/24000]\n",
            "Epoch 4, cost: 0.579237  [   50/24000]\n",
            "Epoch 4, cost: 0.602771  [  550/24000]\n",
            "Epoch 4, cost: 0.573420  [ 1050/24000]\n",
            "Epoch 4, cost: 0.578063  [ 1550/24000]\n",
            "Epoch 4, cost: 0.547959  [ 2050/24000]\n",
            "Epoch 4, cost: 0.553911  [ 2550/24000]\n",
            "Epoch 4, cost: 0.548016  [ 3050/24000]\n",
            "Epoch 4, cost: 0.611140  [ 3550/24000]\n",
            "Epoch 4, cost: 0.504506  [ 4050/24000]\n",
            "Epoch 4, cost: 0.514320  [ 4550/24000]\n",
            "Epoch 4, cost: 0.558770  [ 5050/24000]\n",
            "Epoch 4, cost: 0.574989  [ 5550/24000]\n",
            "Epoch 4, cost: 0.546766  [ 6050/24000]\n",
            "Epoch 4, cost: 0.548012  [ 6550/24000]\n",
            "Epoch 4, cost: 0.547671  [ 7050/24000]\n",
            "Epoch 4, cost: 0.578171  [ 7550/24000]\n",
            "Epoch 4, cost: 0.577205  [ 8050/24000]\n",
            "Epoch 4, cost: 0.568894  [ 8550/24000]\n",
            "Epoch 4, cost: 0.512685  [ 9050/24000]\n",
            "Epoch 4, cost: 0.512376  [ 9550/24000]\n",
            "Epoch 4, cost: 0.564844  [10050/24000]\n",
            "Epoch 4, cost: 0.575046  [10550/24000]\n",
            "Epoch 4, cost: 0.515909  [11050/24000]\n",
            "Epoch 4, cost: 0.559572  [11550/24000]\n",
            "Epoch 4, cost: 0.510017  [12050/24000]\n",
            "Epoch 4, cost: 0.493630  [12550/24000]\n",
            "Epoch 4, cost: 0.509125  [13050/24000]\n",
            "Epoch 4, cost: 0.536864  [13550/24000]\n",
            "Epoch 4, cost: 0.516009  [14050/24000]\n",
            "Epoch 4, cost: 0.567764  [14550/24000]\n",
            "Epoch 4, cost: 0.508599  [15050/24000]\n",
            "Epoch 4, cost: 0.536298  [15550/24000]\n",
            "Epoch 4, cost: 0.505248  [16050/24000]\n",
            "Epoch 4, cost: 0.516929  [16550/24000]\n",
            "Epoch 4, cost: 0.553262  [17050/24000]\n",
            "Epoch 4, cost: 0.539311  [17550/24000]\n",
            "Epoch 4, cost: 0.473721  [18050/24000]\n",
            "Epoch 4, cost: 0.487716  [18550/24000]\n",
            "Epoch 4, cost: 0.497775  [19050/24000]\n",
            "Epoch 4, cost: 0.508325  [19550/24000]\n",
            "Epoch 4, cost: 0.474531  [20050/24000]\n",
            "Epoch 4, cost: 0.507975  [20550/24000]\n",
            "Epoch 4, cost: 0.521968  [21050/24000]\n",
            "Epoch 4, cost: 0.432806  [21550/24000]\n",
            "Epoch 4, cost: 0.527623  [22050/24000]\n",
            "Epoch 4, cost: 0.506875  [22550/24000]\n",
            "Epoch 4, cost: 0.501033  [23050/24000]\n",
            "Epoch 4, cost: 0.492671  [23550/24000]\n",
            "Maximum accuracy (epoch 2) = 82.7167\n",
            "F1 score = 0.8310799804528425\n"
          ]
        },
        {
          "output_type": "error",
          "ename": "AttributeError",
          "evalue": "'CNNModel' object has no attribute 'getlabel'",
          "traceback": [
            "\u001b[0;31m---------------------------------------------------------------------------\u001b[0m",
            "\u001b[0;31mAttributeError\u001b[0m                            Traceback (most recent call last)",
            "\u001b[0;32m/tmp/ipython-input-37-3792749446.py\u001b[0m in \u001b[0;36m<cell line: 0>\u001b[0;34m()\u001b[0m\n\u001b[1;32m      1\u001b[0m \u001b[0mcnn\u001b[0m\u001b[0;34m.\u001b[0m\u001b[0mtrain\u001b[0m\u001b[0;34m(\u001b[0m\u001b[0;34m)\u001b[0m\u001b[0;34m\u001b[0m\u001b[0;34m\u001b[0m\u001b[0m\n\u001b[0;32m----> 2\u001b[0;31m \u001b[0mcnn\u001b[0m\u001b[0;34m.\u001b[0m\u001b[0mtest\u001b[0m\u001b[0;34m(\u001b[0m\u001b[0;34m)\u001b[0m\u001b[0;34m\u001b[0m\u001b[0;34m\u001b[0m\u001b[0m\n\u001b[0m",
            "\u001b[0;32m/tmp/ipython-input-33-3572034175.py\u001b[0m in \u001b[0;36mtest\u001b[0;34m(self)\u001b[0m\n\u001b[1;32m     60\u001b[0m         \u001b[0mf1\u001b[0m\u001b[0;34m=\u001b[0m\u001b[0mf1_score\u001b[0m\u001b[0;34m(\u001b[0m\u001b[0mself\u001b[0m\u001b[0;34m.\u001b[0m\u001b[0mtest_loader\u001b[0m\u001b[0;34m.\u001b[0m\u001b[0mdataset\u001b[0m\u001b[0;34m.\u001b[0m\u001b[0mgetlabel\u001b[0m\u001b[0;34m(\u001b[0m\u001b[0;34m)\u001b[0m\u001b[0;34m,\u001b[0m\u001b[0mnp\u001b[0m\u001b[0;34m.\u001b[0m\u001b[0mround\u001b[0m\u001b[0;34m(\u001b[0m\u001b[0mpreds\u001b[0m\u001b[0;34m[\u001b[0m\u001b[0mi\u001b[0m\u001b[0;34m]\u001b[0m\u001b[0;34m)\u001b[0m\u001b[0;34m)\u001b[0m\u001b[0;34m\u001b[0m\u001b[0;34m\u001b[0m\u001b[0m\n\u001b[1;32m     61\u001b[0m         \u001b[0mprint\u001b[0m\u001b[0;34m(\u001b[0m\u001b[0;34mf\"F1 score = {f1}\"\u001b[0m\u001b[0;34m)\u001b[0m\u001b[0;34m\u001b[0m\u001b[0;34m\u001b[0m\u001b[0m\n\u001b[0;32m---> 62\u001b[0;31m         \u001b[0mConfusionMatrixDisplay\u001b[0m\u001b[0;34m.\u001b[0m\u001b[0mfrom_predictions\u001b[0m\u001b[0;34m(\u001b[0m\u001b[0mself\u001b[0m\u001b[0;34m.\u001b[0m\u001b[0mgetlabel\u001b[0m\u001b[0;34m(\u001b[0m\u001b[0;34m)\u001b[0m\u001b[0;34m,\u001b[0m\u001b[0mnp\u001b[0m\u001b[0;34m.\u001b[0m\u001b[0mround\u001b[0m\u001b[0;34m(\u001b[0m\u001b[0mpreds\u001b[0m\u001b[0;34m[\u001b[0m\u001b[0mi\u001b[0m\u001b[0;34m]\u001b[0m\u001b[0;34m)\u001b[0m\u001b[0;34m)\u001b[0m\u001b[0;34m\u001b[0m\u001b[0;34m\u001b[0m\u001b[0m\n\u001b[0m\u001b[1;32m     63\u001b[0m         \u001b[0mplt\u001b[0m\u001b[0;34m.\u001b[0m\u001b[0mshow\u001b[0m\u001b[0;34m(\u001b[0m\u001b[0;34m)\u001b[0m\u001b[0;34m\u001b[0m\u001b[0;34m\u001b[0m\u001b[0m\n",
            "\u001b[0;31mAttributeError\u001b[0m: 'CNNModel' object has no attribute 'getlabel'"
          ]
        },
        {
          "output_type": "display_data",
          "data": {
            "text/plain": [
              "<Figure size 640x480 with 1 Axes>"
            ],
            "image/png": "[encoded data removed]"
          },
          "metadata": {}
        }
      ]
    },
    {
      "cell_type": "code",
      "source": [
        "foo=np.zeros((2,5))\n",
        "bar=np.ones(5)\n",
        "print(foo)\n",
        "print(bar)\n",
        "foo[1]=bar\n",
        "print(foo)\n",
        "baz1=[1,2]\n",
        "baz2=[3,4]\n",
        "baz3=[]\n",
        "baz3.append(baz1)\n",
        "baz3.append(baz2)\n",
        "print(baz3)\n",
        "print(np.hstack(baz3))\n",
        "print(len(cnn.test_loader.dataset))"
      ],
      "metadata": {
        "colab": {
          "base_uri": "https://localhost:8080/"
        },
        "id": "BmsqgyU02-z6",
        "outputId": "45f9bcf2-34b9-4ac3-ed53-64ad98f35946"
      },
      "execution_count": 15,
      "outputs": [
        {
          "output_type": "stream",
          "name": "stdout",
          "text": [
            "[[0. 0. 0. 0. 0.]\n",
            " [0. 0. 0. 0. 0.]]\n",
            "[1. 1. 1. 1. 1.]\n",
            "[[0. 0. 0. 0. 0.]\n",
            " [1. 1. 1. 1. 1.]]\n",
            "[[1, 2], [3, 4]]\n",
            "[1 2 3 4]\n",
            "6000\n"
          ]
        }
      ]
    }
  ]
}