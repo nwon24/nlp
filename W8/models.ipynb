{
  "nbformat": 4,
  "nbformat_minor": 0,
  "metadata": {
    "colab": {
      "provenance": [],
      "gpuType": "T4",
      "authorship_tag": "ABX9TyMSrOYEKIuiUOzq7Ilso7d7",
      "include_colab_link": true
    },
    "kernelspec": {
      "name": "python3",
      "display_name": "Python 3"
    },
    "language_info": {
      "name": "python"
    },
    "accelerator": "GPU"
  },
  "cells": [
    {
      "cell_type": "markdown",
      "metadata": {
        "id": "view-in-github",
        "colab_type": "text"
      },
      "source": [
        "<a href=\"https://colab.research.google.com/github/nwon24/nlp/blob/main/W8/models.ipynb\" target=\"_parent\"><img src=\"https://colab.research.google.com/assets/colab-badge.svg\" alt=\"Open In Colab\"/></a>"
      ]
    },
    {
      "cell_type": "markdown",
      "source": [
        "# Model performance metrics\n",
        "\n",
        "In this notebook we will compare the baseline models, the CNN, the LSTM (with and without pretrained embeddings), and the transformer model on the same text classification task, evaluating each model on metrics such as accuracy and F1 score. The corpus will be 50000 Amazon reviews, categorised as either positive or negative reviews. These reviews will be split 80/20 for training and testing."
      ],
      "metadata": {
        "id": "kuMObqSC6aPG"
      }
    },
    {
      "cell_type": "markdown",
      "source": [
        "# Imports"
      ],
      "metadata": {
        "id": "CeZ1vBzQ7Cl2"
      }
    },
    {
      "cell_type": "code",
      "source": [
        "import pandas as pd\n",
        "import numpy as np\n",
        "from sklearn.preprocessing import LabelEncoder\n",
        "from sklearn.feature_extraction.text import TfidfVectorizer\n",
        "from sklearn import model_selection, svm\n",
        "from sklearn.linear_model import LogisticRegression\n",
        "from sklearn.metrics import accuracy_score, f1_score, ConfusionMatrixDisplay\n",
        "import matplotlib.pyplot as plt\n",
        "import torch\n",
        "import torch.nn as nn\n",
        "import torch.nn.functional as F\n",
        "from torch.optim import Adam\n",
        "from torch.utils.data import Dataset, DataLoader\n",
        "\n",
        "device=torch.accelerator.current_accelerator().type if torch.accelerator.is_available() else \"cpu\""
      ],
      "metadata": {
        "id": "bz3hgB6h7H3T"
      },
      "execution_count": 2,
      "outputs": []
    },
    {
      "cell_type": "markdown",
      "source": [
        "# Hyperparameters\n",
        "\n",
        "The same hyperparameters will be used for all the neural network models. However, depending on computing resource constraints, the transformer may not be able to run for the same number of epochs as the other models."
      ],
      "metadata": {
        "id": "i9HFl8zr7trB"
      }
    },
    {
      "cell_type": "code",
      "source": [
        "corpus_file=\"xaa\"\n",
        "\n",
        "test_size=0.2\n",
        "batch_size=50\n",
        "epochs=5\n",
        "lr=5e-4\n",
        "\n",
        "data=pd.read_csv(corpus_file)"
      ],
      "metadata": {
        "id": "D85UC4Mg7xs2"
      },
      "execution_count": 3,
      "outputs": []
    },
    {
      "cell_type": "markdown",
      "source": [
        "# Baseline classifiers\n",
        "\n",
        "## Preparing the data"
      ],
      "metadata": {
        "id": "uqE6ptbd71QN"
      }
    },
    {
      "cell_type": "code",
      "source": [
        "tfidf =TfidfVectorizer()\n",
        "tfidf.fit(data[\"text\"])\n",
        "trainX,testX,trainY,testY=model_selection.train_test_split(data[\"text\"],data[\"label\"],test_size=test_size)\n",
        "Encoder=LabelEncoder()\n",
        "trainY=Encoder.fit_transform(trainY)\n",
        "testY=Encoder.fit_transform(testY)\n",
        "\n",
        "trainX=tfidf.transform(trainX)\n",
        "testX=tfidf.transform(testX)"
      ],
      "metadata": {
        "collapsed": true,
        "id": "SBJXkTwr73um"
      },
      "execution_count": 4,
      "outputs": []
    },
    {
      "cell_type": "markdown",
      "source": [
        "## SVM"
      ],
      "metadata": {
        "id": "uodF2kj7escf"
      }
    },
    {
      "cell_type": "code",
      "source": [
        "SVM=svm.SVC(C=1.0,kernel=\"linear\",degree=3,gamma=\"auto\")\n",
        "SVM.fit(trainX,trainY)\n",
        "SVM_pred=SVM.predict(testX)\n",
        "SVM_accuracy=accuracy_score(testY,SVM_pred)\n",
        "SVM_f1=f1_score(testY,SVM_pred)\n",
        "ConfusionMatrixDisplay.from_predictions(testY,SVM_pred)\n",
        "plt.show()\n",
        "print(f\"SVM accuracy: {SVM_accuracy}\")\n",
        "print(f\"SVM f1: {SVM_f1}\")"
      ],
      "metadata": {
        "colab": {
          "base_uri": "https://localhost:8080/",
          "height": 484
        },
        "id": "d3kU38eJejqw",
        "outputId": "df25cef7-05d1-4ad1-dde0-f0adb937cb5d"
      },
      "execution_count": null,
      "outputs": [
        {
          "output_type": "display_data",
          "data": {
            "text/plain": [
              "<Figure size 640x480 with 2 Axes>"
            ],
            "image/png": "[encoded data removed]"
          },
          "metadata": {}
        },
        {
          "output_type": "stream",
          "name": "stdout",
          "text": [
            "SVM accuracy: 0.8604\n",
            "SVM f1: 0.8641759097100603\n"
          ]
        }
      ]
    },
    {
      "cell_type": "markdown",
      "source": [
        "## Logistic regression"
      ],
      "metadata": {
        "id": "rR149WD9eu92"
      }
    },
    {
      "cell_type": "code",
      "source": [
        "LR=LogisticRegression()\n",
        "LR.fit(trainX,trainY)\n",
        "LR_pred=LR.predict(testX)\n",
        "LR_accuracy=accuracy_score(testY,LR_pred)\n",
        "LR_f1=f1_score(testY,LR_pred)\n",
        "ConfusionMatrixDisplay.from_predictions(testY,LR_pred)\n",
        "plt.show()\n",
        "print(f\"LR accuracy: {LR_accuracy}\")\n",
        "print(f\"LR f1: {LR_f1}\")"
      ],
      "metadata": {
        "colab": {
          "base_uri": "https://localhost:8080/",
          "height": 484
        },
        "id": "qyPBIvVZDmAS",
        "outputId": "c60ea40b-0c6c-4b10-cf90-887569b1e322"
      },
      "execution_count": null,
      "outputs": [
        {
          "output_type": "display_data",
          "data": {
            "text/plain": [
              "<Figure size 640x480 with 2 Axes>"
            ],
            "image/png": "[encoded data removed]"
          },
          "metadata": {}
        },
        {
          "output_type": "stream",
          "name": "stdout",
          "text": [
            "LR accuracy: 0.8617\n",
            "LR f1: 0.8655846049178735\n"
          ]
        }
      ]
    },
    {
      "cell_type": "markdown",
      "source": [
        "# Generic class for models\n",
        "\n",
        "This will make training and testing a range of models with the same hyperperamaters and datasets easier. The `reshape` method is required because different models have different input shapes, and therefore the child class can simply override this method found in the parent class."
      ],
      "metadata": {
        "id": "b_URVvOJEspH"
      }
    },
    {
      "cell_type": "code",
      "source": [
        "class Model():\n",
        "    def __init__(self,model,loss_fn,optimizer,train_loader,test_loader,batch_size,epochs):\n",
        "        self.model=model.to(device)\n",
        "        self.loss_fn=loss_fn\n",
        "        self.optimizer=optimizer\n",
        "        self.train_loader=train_loader\n",
        "        self.test_loader=test_loader\n",
        "        self.batch_size=batch_size\n",
        "        self.epochs=epochs\n",
        "\n",
        "    def reshape(self,x):\n",
        "        return x\n",
        "\n",
        "    def train(self):\n",
        "        self.model.train()\n",
        "        size=len(self.train_loader.dataset)\n",
        "        for epoch in range(self.epochs):\n",
        "            for batch,(x,y) in enumerate(self.train_loader):\n",
        "                x,y=x.to(device),y.to(device)\n",
        "                pred=self.model(self.reshape(x))\n",
        "                cost=self.loss_fn(pred.flatten(),y)\n",
        "                cost.backward()\n",
        "                self.optimizer.step()\n",
        "                self.optimizer.zero_grad()\n",
        "                if batch%10 == 0:\n",
        "                    cost,current=cost.item(),batch*self.batch_size+len(x)\n",
        "                    print(f\"Epoch {epoch}, cost: {cost:>7f}  [{current:>5d}/{size:>5d}]\")\n",
        "\n",
        "    def test_loop(self):\n",
        "        size=len(self.test_loader.dataset)\n",
        "        num_batches=len(self.test_loader)\n",
        "        correct=0\n",
        "\n",
        "        preds=[]\n",
        "        with torch.no_grad():\n",
        "            for (x,y) in self.test_loader:\n",
        "                x,y=x.to(device),y.to(device)\n",
        "                pred=self.model(self.reshape(x)).flatten()\n",
        "                preds.append(pred)\n",
        "                ncorrect=(torch.round(pred) == y).sum().item()\n",
        "                correct+=ncorrect\n",
        "\n",
        "        #print(correct,size)\n",
        "        #print(f\"Test Error: \\n Accuracy: {(100*correct/size):>0.1f}%, Avg loss: {100*test_loss/size:>8f} \\n\")\n",
        "        return 100*correct/size,np.hstack(preds)\n",
        "\n",
        "    def test(self):\n",
        "        self.model.eval()\n",
        "        x=np.arange(self.epochs)\n",
        "        y=np.zeros(self.epochs)\n",
        "        preds=np.zeros((self.epochs,len(self.test_loader.dataset)))\n",
        "        for epoch in range(self.epochs):\n",
        "            y[epoch],preds[epoch]=self.test_loop()\n",
        "        plt.plot(x,y)\n",
        "        plt.xlabel(\"epoch\")\n",
        "        plt.ylabel(\"Accuracy\")\n",
        "        plt.title(\"Accuracy vs epoch\")\n",
        "        i=np.argmax(y)\n",
        "        print(f\"Maximum accuracy (epoch {i+1}) = {y[i]:.4f}\")\n",
        "        f1=f1_score(self.test_loader.dataset.getlabel(),np.round(preds[i]))\n",
        "        print(f\"F1 score = {f1}\")\n",
        "        ConfusionMatrixDisplay.from_predictions(self.test_loader.dataset.getlabel(),np.round(preds[i]))\n",
        "        plt.show()"
      ],
      "metadata": {
        "id": "fm_X4ouYfO-4"
      },
      "execution_count": 5,
      "outputs": []
    },
    {
      "cell_type": "code",
      "source": [
        "class corpus(Dataset):\n",
        "    def __init__(self,corpus,label):\n",
        "        self.corpus=corpus\n",
        "        self.label=label\n",
        "    def __len__(self):\n",
        "        return len(self.corpus)\n",
        "    def __getitem__(self,idx):\n",
        "        return self.corpus[idx],self.label[idx]\n",
        "    def getlabel(self):\n",
        "        return self.label"
      ],
      "metadata": {
        "id": "WvbVhM6nmtbu"
      },
      "execution_count": 6,
      "outputs": []
    },
    {
      "cell_type": "markdown",
      "source": [
        "# CNN"
      ],
      "metadata": {
        "id": "t-iMDdMbmzTx"
      }
    },
    {
      "cell_type": "code",
      "source": [
        "class CNNClassifier(nn.Module):\n",
        "    def __init__(self,n,kerns,pool_kerns,out_chans):\n",
        "        super(CNNClassifier,self).__init__()\n",
        "        self.kerns=kerns\n",
        "        self.pool_kerns=pool_kerns\n",
        "        self.convs=[]\n",
        "        self.pools=[]\n",
        "        self.stride=1\n",
        "        self.n=n\n",
        "        #self.embed=nn.Embedding(n,max_length)\n",
        "        in_chan=1\n",
        "        for i in range(len(kerns)):\n",
        "            out_chan=out_chans[i]\n",
        "            kern=kerns[i]\n",
        "            pool_kern=pool_kerns[i]\n",
        "            self.convs.append(nn.Conv1d(in_chan,out_chan,kern))\n",
        "            self.compute_size(kern,self.stride)\n",
        "            self.pools.append(nn.MaxPool1d(pool_kern))\n",
        "            self.compute_size(pool_kern,pool_kern)\n",
        "            in_chan=out_chan\n",
        "        self.convs=nn.ModuleList(self.convs)\n",
        "        self.pools=nn.ModuleList(self.pools)\n",
        "        self.fc1=nn.Linear(self.n*out_chan,1)\n",
        "        #self.fc2=nn.Linear(100,1)\n",
        "\n",
        "    def compute_size(self,kernel,stride):\n",
        "        self.n=(self.n-kernel)//stride+1\n",
        "        return self.n\n",
        "\n",
        "    def forward(self,x):\n",
        "        #x=self.embed(x)\n",
        "        for i in range(len(self.kerns)):\n",
        "            x=nn.LeakyReLU()(self.convs[i](x))\n",
        "            x=self.pools[i](x)\n",
        "            x=nn.Dropout(0.2)(x)\n",
        "        x=torch.flatten(x,1)\n",
        "        #x=F.relu(self.fc1(x))\n",
        "        #x=self.fc2(x)\n",
        "        x=self.fc1(x)\n",
        "        x=nn.Sigmoid()(x)\n",
        "        return x\n",
        "\n",
        "class CNNModel(Model):\n",
        "    def reshape(self,x):\n",
        "        return x.reshape(self.batch_size,1,x.shape[1])"
      ],
      "metadata": {
        "id": "NJM8xXrdkqDo"
      },
      "execution_count": 7,
      "outputs": []
    },
    {
      "cell_type": "code",
      "source": [
        "trainX=torch.from_numpy(trainX.toarray()).float()\n",
        "testX=torch.from_numpy(testX.toarray()).float()\n",
        "trainY=torch.from_numpy(trainY).float()\n",
        "testY=torch.from_numpy(testY).float()"
      ],
      "metadata": {
        "id": "HncSEXLUlZeV"
      },
      "execution_count": 8,
      "outputs": []
    },
    {
      "cell_type": "code",
      "source": [
        "train_loader=DataLoader(corpus(trainX,trainY),batch_size=batch_size)\n",
        "test_loader=DataLoader(corpus(testX,testY),batch_size=batch_size)\n",
        "cnn_classifier=CNNClassifier(trainX.shape[1],[2],[2],[3])\n",
        "cnn=CNNModel(cnn_classifier,nn.BCELoss(),Adam(cnn_classifier.parameters(),lr=lr),train_loader,test_loader,batch_size,epochs)"
      ],
      "metadata": {
        "id": "TNxjD2Ngusqk"
      },
      "execution_count": 9,
      "outputs": []
    },
    {
      "cell_type": "code",
      "source": [
        "cnn.train()\n",
        "cnn.test()\n"
      ],
      "metadata": {
        "colab": {
          "base_uri": "https://localhost:8080/",
          "height": 1000
        },
        "id": "-amQvC_rvyul",
        "outputId": "29fbf444-08c8-44f6-b5e9-d1781c17576c"
      },
      "execution_count": 10,
      "outputs": [
        {
          "output_type": "stream",
          "name": "stdout",
          "text": [
            "Epoch 0, cost: 0.700220  [   50/24000]\n",
            "Epoch 0, cost: 2.766129  [  550/24000]\n",
            "Epoch 0, cost: 0.866155  [ 1050/24000]\n",
            "Epoch 0, cost: 0.691168  [ 1550/24000]\n",
            "Epoch 0, cost: 0.693895  [ 2050/24000]\n",
            "Epoch 0, cost: 0.683957  [ 2550/24000]\n",
            "Epoch 0, cost: 0.749100  [ 3050/24000]\n",
            "Epoch 0, cost: 0.643829  [ 3550/24000]\n",
            "Epoch 0, cost: 0.707815  [ 4050/24000]\n",
            "Epoch 0, cost: 0.946185  [ 4550/24000]\n",
            "Epoch 0, cost: 0.910783  [ 5050/24000]\n",
            "Epoch 0, cost: 0.719093  [ 5550/24000]\n",
            "Epoch 0, cost: 0.693036  [ 6050/24000]\n",
            "Epoch 0, cost: 0.726782  [ 6550/24000]\n",
            "Epoch 0, cost: 0.703042  [ 7050/24000]\n",
            "Epoch 0, cost: 0.684406  [ 7550/24000]\n",
            "Epoch 0, cost: 0.674826  [ 8050/24000]\n",
            "Epoch 0, cost: 0.762691  [ 8550/24000]\n",
            "Epoch 0, cost: 0.715914  [ 9050/24000]\n",
            "Epoch 0, cost: 0.624152  [ 9550/24000]\n",
            "Epoch 0, cost: 0.821705  [10050/24000]\n",
            "Epoch 0, cost: 0.693825  [10550/24000]\n",
            "Epoch 0, cost: 0.723762  [11050/24000]\n",
            "Epoch 0, cost: 0.687395  [11550/24000]\n",
            "Epoch 0, cost: 0.681269  [12050/24000]\n",
            "Epoch 0, cost: 0.710215  [12550/24000]\n",
            "Epoch 0, cost: 0.908756  [13050/24000]\n",
            "Epoch 0, cost: 0.748397  [13550/24000]\n",
            "Epoch 0, cost: 0.743066  [14050/24000]\n",
            "Epoch 0, cost: 0.725496  [14550/24000]\n",
            "Epoch 0, cost: 0.731301  [15050/24000]\n",
            "Epoch 0, cost: 0.743445  [15550/24000]\n",
            "Epoch 0, cost: 0.716861  [16050/24000]\n",
            "Epoch 0, cost: 0.708544  [16550/24000]\n",
            "Epoch 0, cost: 0.707239  [17050/24000]\n",
            "Epoch 0, cost: 0.681767  [17550/24000]\n",
            "Epoch 0, cost: 0.635607  [18050/24000]\n",
            "Epoch 0, cost: 0.757172  [18550/24000]\n",
            "Epoch 0, cost: 1.022581  [19050/24000]\n",
            "Epoch 0, cost: 0.764061  [19550/24000]\n",
            "Epoch 0, cost: 0.789023  [20050/24000]\n",
            "Epoch 0, cost: 0.704551  [20550/24000]\n",
            "Epoch 0, cost: 0.678672  [21050/24000]\n",
            "Epoch 0, cost: 0.717591  [21550/24000]\n",
            "Epoch 0, cost: 0.655428  [22050/24000]\n",
            "Epoch 0, cost: 0.931807  [22550/24000]\n",
            "Epoch 0, cost: 0.752129  [23050/24000]\n",
            "Epoch 0, cost: 0.674891  [23550/24000]\n",
            "Epoch 1, cost: 0.679070  [   50/24000]\n",
            "Epoch 1, cost: 0.665171  [  550/24000]\n",
            "Epoch 1, cost: 0.701092  [ 1050/24000]\n",
            "Epoch 1, cost: 0.697535  [ 1550/24000]\n",
            "Epoch 1, cost: 0.764598  [ 2050/24000]\n",
            "Epoch 1, cost: 0.705787  [ 2550/24000]\n",
            "Epoch 1, cost: 0.712926  [ 3050/24000]\n",
            "Epoch 1, cost: 0.660005  [ 3550/24000]\n",
            "Epoch 1, cost: 0.690307  [ 4050/24000]\n",
            "Epoch 1, cost: 1.041668  [ 4550/24000]\n",
            "Epoch 1, cost: 0.993185  [ 5050/24000]\n",
            "Epoch 1, cost: 0.750883  [ 5550/24000]\n",
            "Epoch 1, cost: 0.713301  [ 6050/24000]\n",
            "Epoch 1, cost: 0.730996  [ 6550/24000]\n",
            "Epoch 1, cost: 0.705769  [ 7050/24000]\n",
            "Epoch 1, cost: 0.691149  [ 7550/24000]\n",
            "Epoch 1, cost: 0.700391  [ 8050/24000]\n",
            "Epoch 1, cost: 0.702331  [ 8550/24000]\n",
            "Epoch 1, cost: 0.687297  [ 9050/24000]\n",
            "Epoch 1, cost: 0.641961  [ 9550/24000]\n",
            "Epoch 1, cost: 0.829748  [10050/24000]\n",
            "Epoch 1, cost: 0.698762  [10550/24000]\n",
            "Epoch 1, cost: 0.733880  [11050/24000]\n",
            "Epoch 1, cost: 0.729098  [11550/24000]\n",
            "Epoch 1, cost: 0.702775  [12050/24000]\n",
            "Epoch 1, cost: 0.737069  [12550/24000]\n",
            "Epoch 1, cost: 0.723968  [13050/24000]\n",
            "Epoch 1, cost: 0.710495  [13550/24000]\n",
            "Epoch 1, cost: 0.828045  [14050/24000]\n",
            "Epoch 1, cost: 0.738221  [14550/24000]\n",
            "Epoch 1, cost: 0.825735  [15050/24000]\n",
            "Epoch 1, cost: 0.837459  [15550/24000]\n",
            "Epoch 1, cost: 0.881900  [16050/24000]\n",
            "Epoch 1, cost: 0.858560  [16550/24000]\n",
            "Epoch 1, cost: 0.707397  [17050/24000]\n",
            "Epoch 1, cost: 0.695013  [17550/24000]\n",
            "Epoch 1, cost: 0.660090  [18050/24000]\n",
            "Epoch 1, cost: 0.744887  [18550/24000]\n",
            "Epoch 1, cost: 1.138241  [19050/24000]\n",
            "Epoch 1, cost: 0.853966  [19550/24000]\n",
            "Epoch 1, cost: 0.681195  [20050/24000]\n",
            "Epoch 1, cost: 0.694519  [20550/24000]\n",
            "Epoch 1, cost: 0.714249  [21050/24000]\n",
            "Epoch 1, cost: 0.695525  [21550/24000]\n",
            "Epoch 1, cost: 0.668164  [22050/24000]\n",
            "Epoch 1, cost: 0.695536  [22550/24000]\n",
            "Epoch 1, cost: 0.705813  [23050/24000]\n",
            "Epoch 1, cost: 0.708047  [23550/24000]\n",
            "Epoch 2, cost: 0.789135  [   50/24000]\n",
            "Epoch 2, cost: 0.790669  [  550/24000]\n",
            "Epoch 2, cost: 0.882787  [ 1050/24000]\n",
            "Epoch 2, cost: 0.715904  [ 1550/24000]\n",
            "Epoch 2, cost: 0.705045  [ 2050/24000]\n",
            "Epoch 2, cost: 0.724499  [ 2550/24000]\n",
            "Epoch 2, cost: 0.677446  [ 3050/24000]\n",
            "Epoch 2, cost: 0.623305  [ 3550/24000]\n",
            "Epoch 2, cost: 0.665650  [ 4050/24000]\n",
            "Epoch 2, cost: 0.858854  [ 4550/24000]\n",
            "Epoch 2, cost: 0.763958  [ 5050/24000]\n",
            "Epoch 2, cost: 0.690853  [ 5550/24000]\n",
            "Epoch 2, cost: 0.827481  [ 6050/24000]\n",
            "Epoch 2, cost: 0.708000  [ 6550/24000]\n",
            "Epoch 2, cost: 0.688004  [ 7050/24000]\n",
            "Epoch 2, cost: 0.709740  [ 7550/24000]\n",
            "Epoch 2, cost: 0.840715  [ 8050/24000]\n",
            "Epoch 2, cost: 0.692435  [ 8550/24000]\n",
            "Epoch 2, cost: 0.681640  [ 9050/24000]\n",
            "Epoch 2, cost: 0.608682  [ 9550/24000]\n",
            "Epoch 2, cost: 0.685559  [10050/24000]\n",
            "Epoch 2, cost: 0.703516  [10550/24000]\n",
            "Epoch 2, cost: 0.672648  [11050/24000]\n",
            "Epoch 2, cost: 0.647932  [11550/24000]\n",
            "Epoch 2, cost: 0.691445  [12050/24000]\n",
            "Epoch 2, cost: 0.939749  [12550/24000]\n",
            "Epoch 2, cost: 0.656058  [13050/24000]\n",
            "Epoch 2, cost: 0.632306  [13550/24000]\n",
            "Epoch 2, cost: 0.732967  [14050/24000]\n",
            "Epoch 2, cost: 0.661651  [14550/24000]\n",
            "Epoch 2, cost: 0.648228  [15050/24000]\n",
            "Epoch 2, cost: 0.634174  [15550/24000]\n",
            "Epoch 2, cost: 0.657047  [16050/24000]\n",
            "Epoch 2, cost: 0.644614  [16550/24000]\n",
            "Epoch 2, cost: 0.645559  [17050/24000]\n",
            "Epoch 2, cost: 0.636519  [17550/24000]\n",
            "Epoch 2, cost: 0.574488  [18050/24000]\n",
            "Epoch 2, cost: 0.679388  [18550/24000]\n",
            "Epoch 2, cost: 0.822328  [19050/24000]\n",
            "Epoch 2, cost: 0.644558  [19550/24000]\n",
            "Epoch 2, cost: 0.756616  [20050/24000]\n",
            "Epoch 2, cost: 0.646084  [20550/24000]\n",
            "Epoch 2, cost: 0.636169  [21050/24000]\n",
            "Epoch 2, cost: 0.660851  [21550/24000]\n",
            "Epoch 2, cost: 0.636989  [22050/24000]\n",
            "Epoch 2, cost: 0.640745  [22550/24000]\n",
            "Epoch 2, cost: 0.643132  [23050/24000]\n",
            "Epoch 2, cost: 0.609245  [23550/24000]\n",
            "Epoch 3, cost: 0.644557  [   50/24000]\n",
            "Epoch 3, cost: 0.711020  [  550/24000]\n",
            "Epoch 3, cost: 0.726872  [ 1050/24000]\n",
            "Epoch 3, cost: 0.622898  [ 1550/24000]\n",
            "Epoch 3, cost: 0.629009  [ 2050/24000]\n",
            "Epoch 3, cost: 0.630224  [ 2550/24000]\n",
            "Epoch 3, cost: 0.723529  [ 3050/24000]\n",
            "Epoch 3, cost: 0.586817  [ 3550/24000]\n",
            "Epoch 3, cost: 0.612408  [ 4050/24000]\n",
            "Epoch 3, cost: 0.670168  [ 4550/24000]\n",
            "Epoch 3, cost: 0.521310  [ 5050/24000]\n",
            "Epoch 3, cost: 0.615107  [ 5550/24000]\n",
            "Epoch 3, cost: 0.770403  [ 6050/24000]\n",
            "Epoch 3, cost: 0.651038  [ 6550/24000]\n",
            "Epoch 3, cost: 0.645199  [ 7050/24000]\n",
            "Epoch 3, cost: 0.624866  [ 7550/24000]\n",
            "Epoch 3, cost: 0.634445  [ 8050/24000]\n",
            "Epoch 3, cost: 0.620031  [ 8550/24000]\n",
            "Epoch 3, cost: 0.635640  [ 9050/24000]\n",
            "Epoch 3, cost: 0.579699  [ 9550/24000]\n",
            "Epoch 3, cost: 0.635617  [10050/24000]\n",
            "Epoch 3, cost: 0.645008  [10550/24000]\n",
            "Epoch 3, cost: 0.631418  [11050/24000]\n",
            "Epoch 3, cost: 0.648448  [11550/24000]\n",
            "Epoch 3, cost: 0.613240  [12050/24000]\n",
            "Epoch 3, cost: 0.637723  [12550/24000]\n",
            "Epoch 3, cost: 0.578204  [13050/24000]\n",
            "Epoch 3, cost: 0.575685  [13550/24000]\n",
            "Epoch 3, cost: 0.642066  [14050/24000]\n",
            "Epoch 3, cost: 0.601125  [14550/24000]\n",
            "Epoch 3, cost: 0.591641  [15050/24000]\n",
            "Epoch 3, cost: 0.596117  [15550/24000]\n",
            "Epoch 3, cost: 0.643486  [16050/24000]\n",
            "Epoch 3, cost: 0.577772  [16550/24000]\n",
            "Epoch 3, cost: 0.590968  [17050/24000]\n",
            "Epoch 3, cost: 0.578499  [17550/24000]\n",
            "Epoch 3, cost: 0.553834  [18050/24000]\n",
            "Epoch 3, cost: 0.599742  [18550/24000]\n",
            "Epoch 3, cost: 0.609959  [19050/24000]\n",
            "Epoch 3, cost: 0.604475  [19550/24000]\n",
            "Epoch 3, cost: 0.546564  [20050/24000]\n",
            "Epoch 3, cost: 0.566615  [20550/24000]\n",
            "Epoch 3, cost: 0.564797  [21050/24000]\n",
            "Epoch 3, cost: 0.617017  [21550/24000]\n",
            "Epoch 3, cost: 0.586946  [22050/24000]\n",
            "Epoch 3, cost: 0.616203  [22550/24000]\n",
            "Epoch 3, cost: 0.597089  [23050/24000]\n",
            "Epoch 3, cost: 0.569658  [23550/24000]\n",
            "Epoch 4, cost: 0.537420  [   50/24000]\n",
            "Epoch 4, cost: 0.757238  [  550/24000]\n",
            "Epoch 4, cost: 0.539154  [ 1050/24000]\n",
            "Epoch 4, cost: 0.564182  [ 1550/24000]\n",
            "Epoch 4, cost: 0.547231  [ 2050/24000]\n",
            "Epoch 4, cost: 0.582259  [ 2550/24000]\n",
            "Epoch 4, cost: 0.583899  [ 3050/24000]\n",
            "Epoch 4, cost: 0.532482  [ 3550/24000]\n",
            "Epoch 4, cost: 0.527767  [ 4050/24000]\n",
            "Epoch 4, cost: 0.588249  [ 4550/24000]\n",
            "Epoch 4, cost: 0.494815  [ 5050/24000]\n",
            "Epoch 4, cost: 0.706083  [ 5550/24000]\n",
            "Epoch 4, cost: 0.520140  [ 6050/24000]\n",
            "Epoch 4, cost: 0.538159  [ 6550/24000]\n",
            "Epoch 4, cost: 0.558314  [ 7050/24000]\n",
            "Epoch 4, cost: 0.540847  [ 7550/24000]\n",
            "Epoch 4, cost: 0.526427  [ 8050/24000]\n",
            "Epoch 4, cost: 0.549156  [ 8550/24000]\n",
            "Epoch 4, cost: 0.563323  [ 9050/24000]\n",
            "Epoch 4, cost: 0.585151  [ 9550/24000]\n",
            "Epoch 4, cost: 0.563599  [10050/24000]\n",
            "Epoch 4, cost: 0.581686  [10550/24000]\n",
            "Epoch 4, cost: 0.551612  [11050/24000]\n",
            "Epoch 4, cost: 0.555654  [11550/24000]\n",
            "Epoch 4, cost: 0.534129  [12050/24000]\n",
            "Epoch 4, cost: 0.618265  [12550/24000]\n",
            "Epoch 4, cost: 0.519192  [13050/24000]\n",
            "Epoch 4, cost: 0.533455  [13550/24000]\n",
            "Epoch 4, cost: 0.583732  [14050/24000]\n",
            "Epoch 4, cost: 0.536898  [14550/24000]\n",
            "Epoch 4, cost: 0.562790  [15050/24000]\n",
            "Epoch 4, cost: 0.517387  [15550/24000]\n",
            "Epoch 4, cost: 0.563903  [16050/24000]\n",
            "Epoch 4, cost: 0.513878  [16550/24000]\n",
            "Epoch 4, cost: 0.569008  [17050/24000]\n",
            "Epoch 4, cost: 0.539306  [17550/24000]\n",
            "Epoch 4, cost: 0.538968  [18050/24000]\n",
            "Epoch 4, cost: 0.517424  [18550/24000]\n",
            "Epoch 4, cost: 0.527409  [19050/24000]\n",
            "Epoch 4, cost: 0.520055  [19550/24000]\n",
            "Epoch 4, cost: 0.589659  [20050/24000]\n",
            "Epoch 4, cost: 0.574590  [20550/24000]\n",
            "Epoch 4, cost: 0.496789  [21050/24000]\n",
            "Epoch 4, cost: 0.582041  [21550/24000]\n",
            "Epoch 4, cost: 0.548266  [22050/24000]\n",
            "Epoch 4, cost: 0.561933  [22550/24000]\n",
            "Epoch 4, cost: 0.522411  [23050/24000]\n",
            "Epoch 4, cost: 0.473743  [23550/24000]\n",
            "Maximum accuracy (epoch 4) = 79.4000\n",
            "F1 score = 0.7758433079434167\n"
          ]
        },
        {
          "output_type": "display_data",
          "data": {
            "text/plain": [
              "<Figure size 640x480 with 1 Axes>"
            ],
            "image/png": "[encoded data removed]"
          },
          "metadata": {}
        },
        {
          "output_type": "display_data",
          "data": {
            "text/plain": [
              "<Figure size 640x480 with 2 Axes>"
            ],
            "image/png": "[encoded data removed]"
          },
          "metadata": {}
        }
      ]
    },
    {
      "cell_type": "markdown",
      "source": [
        "# LSTM"
      ],
      "metadata": {
        "id": "p5FdJk0ZuR6x"
      }
    },
    {
      "cell_type": "code",
      "source": [],
      "metadata": {
        "id": "K-JLCgb3uU01"
      },
      "execution_count": null,
      "outputs": []
    }
  ]
}