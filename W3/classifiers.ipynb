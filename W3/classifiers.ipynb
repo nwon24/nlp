{
  "nbformat": 4,
  "nbformat_minor": 0,
  "metadata": {
    "colab": {
      "provenance": [],
      "gpuType": "T4",
      "authorship_tag": "ABX9TyP5mJnW55iv8VuRY3KXaPh0",
      "include_colab_link": true
    },
    "kernelspec": {
      "name": "python3",
      "display_name": "Python 3"
    },
    "language_info": {
      "name": "python"
    },
    "accelerator": "GPU"
  },
  "cells": [
    {
      "cell_type": "markdown",
      "metadata": {
        "id": "view-in-github",
        "colab_type": "text"
      },
      "source": [
        "<a href=\"https://colab.research.google.com/github/nwon24/nlp/blob/main/W3/classifiers.ipynb\" target=\"_parent\"><img src=\"https://colab.research.google.com/assets/colab-badge.svg\" alt=\"Open In Colab\"/></a>"
      ]
    },
    {
      "cell_type": "code",
      "execution_count": 1,
      "metadata": {
        "colab": {
          "base_uri": "https://localhost:8080/"
        },
        "id": "DZMrGTC51ZeS",
        "outputId": "919760d0-e3e9-4a4b-f05d-cd58b0e78ff2"
      },
      "outputs": [
        {
          "output_type": "stream",
          "name": "stdout",
          "text": [
            "SVM Accuracy ->  85.05\n",
            "Logistic regression Accuracy ->  84.3\n",
            "Write your review:\n",
            "very very good\n",
            "POSITIVE\n"
          ]
        }
      ],
      "source": [
        "import pandas as pd\n",
        "import numpy as np\n",
        "from sklearn.preprocessing import LabelEncoder\n",
        "from sklearn.feature_extraction.text import TfidfVectorizer\n",
        "from sklearn import model_selection, naive_bayes, svm\n",
        "from sklearn.linear_model import LogisticRegression\n",
        "from sklearn.metrics import accuracy_score\n",
        "\n",
        "labels=[\"NEGATIVE\",\"POSITIVE\"]\n",
        "\n",
        "data=pd.read_csv(\"xaa\",encoding=\"utf-8\")\n",
        "\n",
        "tfidf  = TfidfVectorizer()\n",
        "corpus = tfidf.fit_transform(data[\"text\"])\n",
        "train_corpus, test_corpus, train_label, test_label = model_selection.train_test_split(data[\"text\"],data['label'],test_size=0.3)\n",
        "Encoder = LabelEncoder()\n",
        "train_label = Encoder.fit_transform(train_label)\n",
        "test_label = Encoder.fit_transform(test_label)\n",
        "\n",
        "# Classifier - Algorithm - SVM\n",
        "f=open(\"SVM_results.md\", \"w\")\n",
        "f.write(\"# SVM CLASSIFIER\\n\\n\")\n",
        "train_corpus_tfidf=tfidf.transform(train_corpus)\n",
        "test_corpus_tfidf=tfidf.transform(test_corpus)\n",
        "SVM = svm.SVC(C=1.0, kernel='linear', degree=3, gamma='auto')\n",
        "SVM.fit(train_corpus_tfidf,train_label)\n",
        "#predictions_SVM = SVM.predict(test_corpus_tfidf)\n",
        "#print(\"SVM Accuracy -> \",accuracy_score(predictions_SVM, test_label)*100)\n",
        "correct = 0\n",
        "n = 0\n",
        "for readable_sample,sample,label in zip(test_corpus,test_corpus_tfidf,test_label):\n",
        "    pred = SVM.predict(sample)\n",
        "    n += 1\n",
        "    if pred.item() != label:\n",
        "        f.write(\"\\n>%s\\n\\nPredicted: %s\\n\\n Expected: %s\\n\\n\" % (readable_sample,labels[int(pred.item())],labels[int(label)]))\n",
        "    else:\n",
        "        correct += 1\n",
        "print(\"SVM Accuracy -> \",correct*100/n)\n",
        "f.write(\"\\nOverall accuracy: %.2f\" % (correct*100/n))\n",
        "f.close()\n",
        "\n",
        "# Logistic regression\n",
        "n = 0\n",
        "correct = 0\n",
        "f=open(\"log_results.md\",\"w\")\n",
        "f.write(\"# LOGISTIC REGRESSION\\n\\n\")\n",
        "lr=LogisticRegression()\n",
        "lr.fit(train_corpus_tfidf,train_label)\n",
        "#predictions_lr=lr.predict(test_corpus_tfidf)\n",
        "#print(\"Logistic Regression Accuracy -> \",accuracy_score(predictions_lr, test_label)*100)\n",
        "\n",
        "for readable_sample,sample,label in zip(test_corpus,test_corpus_tfidf,test_label):\n",
        "    pred = lr.predict(sample)\n",
        "    n += 1\n",
        "    if pred.item() != label:\n",
        "        f.write(\"\\n>%s\\n\\nPredicted: %s\\n\\n Expected: %s\\n\" % (readable_sample,labels[int(pred.item())],labels[int(label)]))\n",
        "    else:\n",
        "        correct += 1\n",
        "print(\"Logistic regression Accuracy -> \",correct*100/n)\n",
        "f.write(\"\\nOverall accuracy: %.2f\" % (correct*100/n))\n",
        "\n",
        "f.close()\n",
        "\n",
        "def classify(model, vectoriser, mes):\n",
        "    vect = vectoriser.transform([mes])\n",
        "    return labels[model.predict(vect).item()]\n",
        "\n",
        "text=input(\"Write your review:\\n\")\n",
        "print(classify(lr,tfidf,text))"
      ]
    },
    {
      "cell_type": "code",
      "source": [],
      "metadata": {
        "id": "8iZ-bGhGneZE"
      },
      "execution_count": null,
      "outputs": []
    }
  ]
}