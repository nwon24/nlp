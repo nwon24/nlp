{
  "nbformat": 4,
  "nbformat_minor": 0,
  "metadata": {
    "colab": {
      "provenance": [],
<<<<<<< HEAD
      "gpuType": "T4"
=======
      "authorship_tag": "ABX9TyNSnaXZwbTBzsWtlMN6fGnj",
      "include_colab_link": true
>>>>>>> e3a7c7cb672760cbaec520becea539886ab117c8
    },
    "kernelspec": {
      "name": "python3",
      "display_name": "Python 3"
    },
    "language_info": {
      "name": "python"
    },
    "accelerator": "GPU"
  },
  "cells": [
    {
      "cell_type": "code",
<<<<<<< HEAD
      "execution_count": 14,
=======
      "execution_count": 1,
>>>>>>> e3a7c7cb672760cbaec520becea539886ab117c8
      "metadata": {
        "colab": {
          "base_uri": "https://localhost:8080/"
        },
        "id": "DZMrGTC51ZeS",
<<<<<<< HEAD
        "outputId": "f8ba25c2-df15-46d2-9b77-ba661271bf51"
=======
        "outputId": "84195823-d31c-4e14-c50e-366d06d6e27b"
>>>>>>> e3a7c7cb672760cbaec520becea539886ab117c8
      },
      "outputs": [
        {
          "output_type": "stream",
          "name": "stdout",
          "text": [
<<<<<<< HEAD
            "SVM Accuracy ->  87.73333333333333\n",
            "Logistic regression Accuracy ->  86.8\n"
=======
            "SVM Accuracy ->  87.46666666666667\n",
            "Logistic Regression Accuracy ->  86.63333333333333\n"
>>>>>>> e3a7c7cb672760cbaec520becea539886ab117c8
          ]
        }
      ],
      "source": [
        "import pandas as pd\n",
        "import numpy as np\n",
        "from sklearn.preprocessing import LabelEncoder\n",
        "from sklearn.feature_extraction.text import TfidfVectorizer\n",
        "from sklearn import model_selection, svm\n",
        "from sklearn.linear_model import LogisticRegression\n",
        "from sklearn.metrics import accuracy_score\n",
        "\n",
        "labels=[\"NEGATIVE\",\"POSITIVE\"]\n",
        "\n",
        "data=pd.read_csv(\"corpus.csv\",encoding=\"latin1\")\n",
        "\n",
        "tfidf  = TfidfVectorizer()\n",
        "corpus = tfidf.fit_transform(data[\"text\"])\n",
        "train_corpus, test_corpus, train_label, test_label = model_selection.train_test_split(data[\"text\"],data['label'],test_size=0.3)\n",
        "Encoder = LabelEncoder()\n",
        "train_label = Encoder.fit_transform(train_label)\n",
        "test_label = Encoder.fit_transform(test_label)\n",
        "\n",
        "# Classifier - Algorithm - SVM\n",
        "f=open(\"SVM_results.md\", \"w\")\n",
        "f.write(\"# SVM CLASSIFIER\\n\\n\")\n",
        "train_corpus_tfidf=tfidf.transform(train_corpus)\n",
        "test_corpus_tfidf=tfidf.transform(test_corpus)\n",
        "SVM = svm.SVC(C=1.0, kernel='linear', degree=3, gamma='auto')\n",
        "SVM.fit(train_corpus_tfidf,train_label)\n",
        "#predictions_SVM = SVM.predict(test_corpus_tfidf)\n",
        "#print(\"SVM Accuracy -> \",accuracy_score(predictions_SVM, test_label)*100)\n",
        "correct = 0\n",
        "n = 0\n",
        "for readable_sample,sample,label in zip(test_corpus,test_corpus_tfidf,test_label):\n",
        "    pred = SVM.predict(sample)\n",
        "    n += 1\n",
        "    if pred.item() != label:\n",
        "        f.write(\"\\n>%s\\n\\nPredicted: %s\\n\\n Expected: %s\\n\\n\" % (readable_sample,labels[int(pred.item())],labels[int(label)]))\n",
        "    else:\n",
        "        correct += 1\n",
        "print(\"SVM Accuracy -> \",correct*100/n)\n",
        "f.write(\"\\nOverall accuracy: %.2f\" % (correct*100/n))\n",
        "f.close()\n",
        "\n",
        "# Logistic regression\n",
        "n = 0\n",
        "correct = 0\n",
        "f=open(\"log_results.md\",\"w\")\n",
        "f.write(\"# LOGISTIC REGRESSION\\n\\n\")\n",
        "lr=LogisticRegression()\n",
        "lr.fit(train_corpus_tfidf,train_label)\n",
        "#predictions_lr=lr.predict(test_corpus_tfidf)\n",
        "#print(\"Logistic Regression Accuracy -> \",accuracy_score(predictions_lr, test_label)*100)\n",
        "\n",
        "for readable_sample,sample,label in zip(test_corpus,test_corpus_tfidf,test_label):\n",
        "    pred = lr.predict(sample)\n",
        "    n += 1\n",
        "    if pred.item() != label:\n",
        "        f.write(\"\\n>%s\\n\\nPredicted: %s\\n\\n Expected: %s\\n\" % (readable_sample,labels[int(pred.item())],labels[int(label)]))\n",
        "    else:\n",
        "        correct += 1\n",
        "print(\"Logistic regression Accuracy -> \",correct*100/n)\n",
        "f.write(\"\\nOverall accuracy: %.2f\" % (correct*100/n))\n",
        "\n",
        "f.close()"
      ]
    },
    {
      "cell_type": "code",
      "source": [],
      "metadata": {
<<<<<<< HEAD
        "id": "8iZ-bGhGneZE"
=======
        "id": "NXRHjUX-wn5P"
>>>>>>> e3a7c7cb672760cbaec520becea539886ab117c8
      },
      "execution_count": null,
      "outputs": []
    }
  ]
}